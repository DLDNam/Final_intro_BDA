{
 "cells": [
  {
   "cell_type": "code",
   "execution_count": null,
   "metadata": {},
   "outputs": [],
   "source": [
    "#ex1\n",
    "def compute_sum(a, b):\n",
    "    sum = a + b\n",
    "    return sum\n",
    "a = int(input())\n",
    "b = int(input())\n",
    "print(compute_sum(a,b))"
   ]
  },
  {
   "cell_type": "code",
   "execution_count": 1,
   "metadata": {},
   "outputs": [
    {
     "name": "stdout",
     "output_type": "stream",
     "text": [
      "2:2\n",
      "3:1\n",
      "3?:1\n",
      "New:1\n",
      "Python:5\n",
      "Read:1\n",
      "and:1\n",
      "between:1\n",
      "choosing:1\n",
      "or:2\n",
      "to:1\n"
     ]
    }
   ],
   "source": [
    "#ex2\n",
    "def word_frequency(input_string):\n",
    "    words = input_string.split()\n",
    "    frequency = {}\n",
    "    for word in words:\n",
    "        frequency[word] = frequency.get(word, 0) + 1\n",
    "    sorted_frequency = sorted(frequency.items(), key=lambda x: x[0])\n",
    "    for word, count in sorted_frequency:\n",
    "        print(f\"{word}:{count}\")\n",
    "input_string = \"New to Python or choosing between Python 2 and Python 3? Read Python 2 or Python 3\"\n",
    "word_frequency(input_string)"
   ]
  },
  {
   "cell_type": "code",
   "execution_count": 3,
   "metadata": {},
   "outputs": [
    {
     "name": "stdout",
     "output_type": "stream",
     "text": [
      "123\n"
     ]
    }
   ],
   "source": [
    "#ex3\n",
    "def convert_and_print(number):\n",
    "    number_str = str(number)\n",
    "    print(number_str)\n",
    "n = int(input())\n",
    "convert_and_print(n)\n"
   ]
  },
  {
   "cell_type": "code",
   "execution_count": 5,
   "metadata": {},
   "outputs": [
    {
     "name": "stdout",
     "output_type": "stream",
     "text": [
      "6000.0\n"
     ]
    }
   ],
   "source": [
    "#ex4\n",
    "def convert(minutes):\n",
    "    seconds = minutes * 60\n",
    "    return seconds\n",
    "n = input()\n",
    "print(convert(float(n)))"
   ]
  },
  {
   "cell_type": "code",
   "execution_count": 6,
   "metadata": {},
   "outputs": [
    {
     "name": "stdout",
     "output_type": "stream",
     "text": [
      "60\n"
     ]
    }
   ],
   "source": [
    "#ex5\n",
    "def sum_of_a_list(numbers):\n",
    "    total = sum(numbers)\n",
    "    return total\n",
    "result = sum_of_a_list([10, 20, 30])\n",
    "print(result)  "
   ]
  },
  {
   "cell_type": "code",
   "execution_count": null,
   "metadata": {},
   "outputs": [],
   "source": [
    "#ex6\n",
    "def find_largest(numbers):\n",
    "    largest = max(numbers)\n",
    "    return largest\n",
    "result = find_largest([30, 10, 20])\n",
    "print(result)  "
   ]
  },
  {
   "cell_type": "code",
   "execution_count": 10,
   "metadata": {},
   "outputs": [
    {
     "name": "stdout",
     "output_type": "stream",
     "text": [
      "7200\n"
     ]
    }
   ],
   "source": [
    "#ex7\n",
    "def convert(hours, minutes):\n",
    "    seconds = (hours * 3600) + (minutes * 60)\n",
    "    return seconds\n",
    "result1 = convert(int(input()),int(input()))\n",
    "print(result1)  "
   ]
  },
  {
   "cell_type": "code",
   "execution_count": 11,
   "metadata": {},
   "outputs": [
    {
     "name": "stdout",
     "output_type": "stream",
     "text": [
      "12.0\n"
     ]
    }
   ],
   "source": [
    "#ex8\n",
    "def calculator(num1, operator, num2):\n",
    "    if operator == \"+\":\n",
    "        result = num1 + num2\n",
    "    elif operator == \"-\":\n",
    "        result = num1 - num2\n",
    "    elif operator == \"*\":\n",
    "        result = num1 * num2\n",
    "    elif operator == \"/\":\n",
    "        result = num1 / num2\n",
    "    else:\n",
    "        return \"Invalid operator\"\n",
    "\n",
    "    return result\n",
    "result1 = calculator(float(input()), input(), float(input()))\n",
    "print(result1)"
   ]
  },
  {
   "cell_type": "code",
   "execution_count": 13,
   "metadata": {},
   "outputs": [
    {
     "name": "stdout",
     "output_type": "stream",
     "text": [
      "1\n"
     ]
    }
   ],
   "source": [
    "#ex9\n",
    "def algor_differ(str1, str2):\n",
    "    difference = 0\n",
    "    for char1, char2 in zip(str1, str2):\n",
    "        if char1 != char2:\n",
    "            difference += 1\n",
    "    return difference\n",
    "result1 = algor_differ(input(), input())\n",
    "print(result1)"
   ]
  },
  {
   "cell_type": "code",
   "execution_count": null,
   "metadata": {},
   "outputs": [],
   "source": [
    "class Person:\n",
    "    def __init__(self, name, address, gender):\n",
    "        self.name = name\n",
    "        self.address = address\n",
    "        self.gender = gender\n",
    "\n",
    "\n",
    "class Employee(Person):\n",
    "    def __init__(self, name, address, gender, emp_id, salary):\n",
    "        super().__init__(name, address, gender)\n",
    "        self.emp_id = emp_id\n",
    "        self.salary = salary\n",
    "        self.promotion_history = []\n",
    "\n",
    "    def promote(self):\n",
    "        promotion_amount = self.salary * 0.05\n",
    "        self.salary += promotion_amount\n",
    "        self.promotion_history.append(promotion_amount)\n",
    "\n",
    "\n",
    "def main():\n",
    "    n = int(input(\"Enter the number of employees: \"))\n",
    "\n",
    "    employees = []\n",
    "    for i in range(n):\n",
    "        print(f\"\\nEmployee {i + 1}:\")\n",
    "        name = input(\"Enter name: \")\n",
    "        address = input(\"Enter address: \")\n",
    "        gender = input(\"Enter gender: \")\n",
    "        emp_id = input(\"Enter employee ID: \")\n",
    "        salary = float(input(\"Enter salary in dollars: \"))\n",
    "\n",
    "        employee = Employee(name, address, gender, emp_id, salary)\n",
    "        employees.append(employee)\n",
    "\n",
    "    print(\"\\nEmployees:\")\n",
    "    for i, employee in enumerate(employees):\n",
    "        print(f\"\\nEmployee {i + 1}:\")\n",
    "        print(\"Name:\", employee.name)\n",
    "        print(\"Address:\", employee.address)\n",
    "        print(\"Gender:\", employee.gender)\n",
    "        print(\"Employee ID:\", employee.emp_id)\n",
    "        print(\"Salary:\", employee.salary)\n",
    "    emp1_index = int(input(\"\\nEnter index of first employee to promote: \")) - 1\n",
    "    emp2_index = int(input(\"Enter index of second employee to promote: \")) - 1\n",
    "\n",
    "    employees[emp1_index].promote()\n",
    "    employees[emp2_index].promote()\n",
    "\n",
    "    print(\"\\nPromotion successful!\")\n",
    "    print(\"\\nUpdated Employee Details:\")\n",
    "    for i, employee in enumerate(employees):\n",
    "        print(f\"\\nEmployee {i + 1}:\")\n",
    "        print(\"Name:\", employee.name)\n",
    "        print(\"Address:\", employee.address)\n",
    "        print(\"Gender:\", employee.gender)\n",
    "        print(\"Employee ID:\", employee.emp_id)\n",
    "        print(\"Salary:\", employee.salary)\n",
    "        print(\"Promotion History:\", employee.promotion_history)\n",
    "\n",
    "\n",
    "if __name__ == \"__main__\":\n",
    "    main()"
   ]
  }
 ],
 "metadata": {
  "kernelspec": {
   "display_name": "base",
   "language": "python",
   "name": "python3"
  },
  "language_info": {
   "codemirror_mode": {
    "name": "ipython",
    "version": 3
   },
   "file_extension": ".py",
   "mimetype": "text/x-python",
   "name": "python",
   "nbconvert_exporter": "python",
   "pygments_lexer": "ipython3",
   "version": "3.9.13"
  },
  "orig_nbformat": 4
 },
 "nbformat": 4,
 "nbformat_minor": 2
}
