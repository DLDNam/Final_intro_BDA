{
  "cells": [
    {
      "cell_type": "markdown",
      "source": [
        "#IMPORT PACKAGE AND LOAD DATA\n",
        "\n",
        "\n"
      ],
      "metadata": {
        "id": "EVaXsmZcXFYU"
      }
    },
    {
      "cell_type": "code",
      "execution_count": 8,
      "metadata": {
        "id": "z6-umeAJRzHy"
      },
      "outputs": [],
      "source": [
        "import pandas as pd \n",
        "import matplotlib as mpl\n",
        "import matplotlib.pyplot as plt\n"
      ]
    },
    {
      "cell_type": "markdown",
      "metadata": {
        "id": "T3qzZ2bcRzH3"
      },
      "source": [
        "#CLEAN AND PROCESS DATA\n",
        "\n"
      ]
    },
    {
      "cell_type": "code",
      "execution_count": 9,
      "metadata": {
        "colab": {
          "base_uri": "https://localhost:8080/",
          "height": 423
        },
        "id": "Nd261P8tRzH2",
        "outputId": "af0f22c3-90e7-4cc3-f7cb-1e7deb0ea6b2"
      },
      "outputs": [
        {
          "output_type": "execute_result",
          "data": {
            "text/plain": [
              "        Unnamed: 0.1  Unnamed: 0  Order ID                   Product  \\\n",
              "0                  0           0    141234                    iPhone   \n",
              "1                  1           1    141235  Lightning Charging Cable   \n",
              "2                  2           2    141236          Wired Headphones   \n",
              "3                  3           3    141237          27in FHD Monitor   \n",
              "4                  4           4    141238          Wired Headphones   \n",
              "...              ...         ...       ...                       ...   \n",
              "105309        105309      115679    242380             Flatscreen TV   \n",
              "105310        105310      115680    242381      USB-C Charging Cable   \n",
              "105311        105311      115681    242382     AA Batteries (4-pack)   \n",
              "105312        105312      115682    242383                    iPhone   \n",
              "105313        105313      115683    242384              Google Phone   \n",
              "\n",
              "        Quantity Ordered  Price Each       Order Date  \\\n",
              "0                      1      700.00  1/22/2019 21:25   \n",
              "1                      1       14.95  1/28/2019 14:15   \n",
              "2                      2       11.99  1/17/2019 13:33   \n",
              "3                      1      149.99   1/5/2019 20:33   \n",
              "4                      1       11.99  1/25/2019 11:59   \n",
              "...                  ...         ...              ...   \n",
              "105309                 1      300.00   08/06/19 08:12   \n",
              "105310                 1       11.95   08/23/19 06:41   \n",
              "105311                 1        3.84   08/07/19 21:03   \n",
              "105312                 1      700.00   08/24/19 15:50   \n",
              "105313                 1      600.00         08/17/19   \n",
              "\n",
              "                               Purchase Address  \n",
              "0               944 Walnut St, Boston, MA 02215  \n",
              "1              185 Maple St, Portland, OR 97035  \n",
              "2         538 Adams St, San Francisco, CA 94016  \n",
              "3            738 10th St, Los Angeles, CA 90001  \n",
              "4                 387 10th St, Austin, TX 73301  \n",
              "...                                         ...  \n",
              "105309       572 Jefferson St, Dallas, TX 75001  \n",
              "105310  796 Dogwood St, New York City, NY 10001  \n",
              "105311          290 14th St, Portland, OR 97035  \n",
              "105312  773 Hickory St, New York City, NY 10001  \n",
              "105313                                      NaN  \n",
              "\n",
              "[105314 rows x 8 columns]"
            ],
            "text/html": [
              "\n",
              "  <div id=\"df-f5edeefe-90ea-4e71-a67e-7c60f520f7cd\">\n",
              "    <div class=\"colab-df-container\">\n",
              "      <div>\n",
              "<style scoped>\n",
              "    .dataframe tbody tr th:only-of-type {\n",
              "        vertical-align: middle;\n",
              "    }\n",
              "\n",
              "    .dataframe tbody tr th {\n",
              "        vertical-align: top;\n",
              "    }\n",
              "\n",
              "    .dataframe thead th {\n",
              "        text-align: right;\n",
              "    }\n",
              "</style>\n",
              "<table border=\"1\" class=\"dataframe\">\n",
              "  <thead>\n",
              "    <tr style=\"text-align: right;\">\n",
              "      <th></th>\n",
              "      <th>Unnamed: 0.1</th>\n",
              "      <th>Unnamed: 0</th>\n",
              "      <th>Order ID</th>\n",
              "      <th>Product</th>\n",
              "      <th>Quantity Ordered</th>\n",
              "      <th>Price Each</th>\n",
              "      <th>Order Date</th>\n",
              "      <th>Purchase Address</th>\n",
              "    </tr>\n",
              "  </thead>\n",
              "  <tbody>\n",
              "    <tr>\n",
              "      <th>0</th>\n",
              "      <td>0</td>\n",
              "      <td>0</td>\n",
              "      <td>141234</td>\n",
              "      <td>iPhone</td>\n",
              "      <td>1</td>\n",
              "      <td>700.00</td>\n",
              "      <td>1/22/2019 21:25</td>\n",
              "      <td>944 Walnut St, Boston, MA 02215</td>\n",
              "    </tr>\n",
              "    <tr>\n",
              "      <th>1</th>\n",
              "      <td>1</td>\n",
              "      <td>1</td>\n",
              "      <td>141235</td>\n",
              "      <td>Lightning Charging Cable</td>\n",
              "      <td>1</td>\n",
              "      <td>14.95</td>\n",
              "      <td>1/28/2019 14:15</td>\n",
              "      <td>185 Maple St, Portland, OR 97035</td>\n",
              "    </tr>\n",
              "    <tr>\n",
              "      <th>2</th>\n",
              "      <td>2</td>\n",
              "      <td>2</td>\n",
              "      <td>141236</td>\n",
              "      <td>Wired Headphones</td>\n",
              "      <td>2</td>\n",
              "      <td>11.99</td>\n",
              "      <td>1/17/2019 13:33</td>\n",
              "      <td>538 Adams St, San Francisco, CA 94016</td>\n",
              "    </tr>\n",
              "    <tr>\n",
              "      <th>3</th>\n",
              "      <td>3</td>\n",
              "      <td>3</td>\n",
              "      <td>141237</td>\n",
              "      <td>27in FHD Monitor</td>\n",
              "      <td>1</td>\n",
              "      <td>149.99</td>\n",
              "      <td>1/5/2019 20:33</td>\n",
              "      <td>738 10th St, Los Angeles, CA 90001</td>\n",
              "    </tr>\n",
              "    <tr>\n",
              "      <th>4</th>\n",
              "      <td>4</td>\n",
              "      <td>4</td>\n",
              "      <td>141238</td>\n",
              "      <td>Wired Headphones</td>\n",
              "      <td>1</td>\n",
              "      <td>11.99</td>\n",
              "      <td>1/25/2019 11:59</td>\n",
              "      <td>387 10th St, Austin, TX 73301</td>\n",
              "    </tr>\n",
              "    <tr>\n",
              "      <th>...</th>\n",
              "      <td>...</td>\n",
              "      <td>...</td>\n",
              "      <td>...</td>\n",
              "      <td>...</td>\n",
              "      <td>...</td>\n",
              "      <td>...</td>\n",
              "      <td>...</td>\n",
              "      <td>...</td>\n",
              "    </tr>\n",
              "    <tr>\n",
              "      <th>105309</th>\n",
              "      <td>105309</td>\n",
              "      <td>115679</td>\n",
              "      <td>242380</td>\n",
              "      <td>Flatscreen TV</td>\n",
              "      <td>1</td>\n",
              "      <td>300.00</td>\n",
              "      <td>08/06/19 08:12</td>\n",
              "      <td>572 Jefferson St, Dallas, TX 75001</td>\n",
              "    </tr>\n",
              "    <tr>\n",
              "      <th>105310</th>\n",
              "      <td>105310</td>\n",
              "      <td>115680</td>\n",
              "      <td>242381</td>\n",
              "      <td>USB-C Charging Cable</td>\n",
              "      <td>1</td>\n",
              "      <td>11.95</td>\n",
              "      <td>08/23/19 06:41</td>\n",
              "      <td>796 Dogwood St, New York City, NY 10001</td>\n",
              "    </tr>\n",
              "    <tr>\n",
              "      <th>105311</th>\n",
              "      <td>105311</td>\n",
              "      <td>115681</td>\n",
              "      <td>242382</td>\n",
              "      <td>AA Batteries (4-pack)</td>\n",
              "      <td>1</td>\n",
              "      <td>3.84</td>\n",
              "      <td>08/07/19 21:03</td>\n",
              "      <td>290 14th St, Portland, OR 97035</td>\n",
              "    </tr>\n",
              "    <tr>\n",
              "      <th>105312</th>\n",
              "      <td>105312</td>\n",
              "      <td>115682</td>\n",
              "      <td>242383</td>\n",
              "      <td>iPhone</td>\n",
              "      <td>1</td>\n",
              "      <td>700.00</td>\n",
              "      <td>08/24/19 15:50</td>\n",
              "      <td>773 Hickory St, New York City, NY 10001</td>\n",
              "    </tr>\n",
              "    <tr>\n",
              "      <th>105313</th>\n",
              "      <td>105313</td>\n",
              "      <td>115683</td>\n",
              "      <td>242384</td>\n",
              "      <td>Google Phone</td>\n",
              "      <td>1</td>\n",
              "      <td>600.00</td>\n",
              "      <td>08/17/19</td>\n",
              "      <td>NaN</td>\n",
              "    </tr>\n",
              "  </tbody>\n",
              "</table>\n",
              "<p>105314 rows × 8 columns</p>\n",
              "</div>\n",
              "      <button class=\"colab-df-convert\" onclick=\"convertToInteractive('df-f5edeefe-90ea-4e71-a67e-7c60f520f7cd')\"\n",
              "              title=\"Convert this dataframe to an interactive table.\"\n",
              "              style=\"display:none;\">\n",
              "        \n",
              "  <svg xmlns=\"http://www.w3.org/2000/svg\" height=\"24px\"viewBox=\"0 0 24 24\"\n",
              "       width=\"24px\">\n",
              "    <path d=\"M0 0h24v24H0V0z\" fill=\"none\"/>\n",
              "    <path d=\"M18.56 5.44l.94 2.06.94-2.06 2.06-.94-2.06-.94-.94-2.06-.94 2.06-2.06.94zm-11 1L8.5 8.5l.94-2.06 2.06-.94-2.06-.94L8.5 2.5l-.94 2.06-2.06.94zm10 10l.94 2.06.94-2.06 2.06-.94-2.06-.94-.94-2.06-.94 2.06-2.06.94z\"/><path d=\"M17.41 7.96l-1.37-1.37c-.4-.4-.92-.59-1.43-.59-.52 0-1.04.2-1.43.59L10.3 9.45l-7.72 7.72c-.78.78-.78 2.05 0 2.83L4 21.41c.39.39.9.59 1.41.59.51 0 1.02-.2 1.41-.59l7.78-7.78 2.81-2.81c.8-.78.8-2.07 0-2.86zM5.41 20L4 18.59l7.72-7.72 1.47 1.35L5.41 20z\"/>\n",
              "  </svg>\n",
              "      </button>\n",
              "      \n",
              "  <style>\n",
              "    .colab-df-container {\n",
              "      display:flex;\n",
              "      flex-wrap:wrap;\n",
              "      gap: 12px;\n",
              "    }\n",
              "\n",
              "    .colab-df-convert {\n",
              "      background-color: #E8F0FE;\n",
              "      border: none;\n",
              "      border-radius: 50%;\n",
              "      cursor: pointer;\n",
              "      display: none;\n",
              "      fill: #1967D2;\n",
              "      height: 32px;\n",
              "      padding: 0 0 0 0;\n",
              "      width: 32px;\n",
              "    }\n",
              "\n",
              "    .colab-df-convert:hover {\n",
              "      background-color: #E2EBFA;\n",
              "      box-shadow: 0px 1px 2px rgba(60, 64, 67, 0.3), 0px 1px 3px 1px rgba(60, 64, 67, 0.15);\n",
              "      fill: #174EA6;\n",
              "    }\n",
              "\n",
              "    [theme=dark] .colab-df-convert {\n",
              "      background-color: #3B4455;\n",
              "      fill: #D2E3FC;\n",
              "    }\n",
              "\n",
              "    [theme=dark] .colab-df-convert:hover {\n",
              "      background-color: #434B5C;\n",
              "      box-shadow: 0px 1px 3px 1px rgba(0, 0, 0, 0.15);\n",
              "      filter: drop-shadow(0px 1px 2px rgba(0, 0, 0, 0.3));\n",
              "      fill: #FFFFFF;\n",
              "    }\n",
              "  </style>\n",
              "\n",
              "      <script>\n",
              "        const buttonEl =\n",
              "          document.querySelector('#df-f5edeefe-90ea-4e71-a67e-7c60f520f7cd button.colab-df-convert');\n",
              "        buttonEl.style.display =\n",
              "          google.colab.kernel.accessAllowed ? 'block' : 'none';\n",
              "\n",
              "        async function convertToInteractive(key) {\n",
              "          const element = document.querySelector('#df-f5edeefe-90ea-4e71-a67e-7c60f520f7cd');\n",
              "          const dataTable =\n",
              "            await google.colab.kernel.invokeFunction('convertToInteractive',\n",
              "                                                     [key], {});\n",
              "          if (!dataTable) return;\n",
              "\n",
              "          const docLinkHtml = 'Like what you see? Visit the ' +\n",
              "            '<a target=\"_blank\" href=https://colab.research.google.com/notebooks/data_table.ipynb>data table notebook</a>'\n",
              "            + ' to learn more about interactive tables.';\n",
              "          element.innerHTML = '';\n",
              "          dataTable['output_type'] = 'display_data';\n",
              "          await google.colab.output.renderOutput(dataTable, element);\n",
              "          const docLink = document.createElement('div');\n",
              "          docLink.innerHTML = docLinkHtml;\n",
              "          element.appendChild(docLink);\n",
              "        }\n",
              "      </script>\n",
              "    </div>\n",
              "  </div>\n",
              "  "
            ]
          },
          "metadata": {},
          "execution_count": 9
        }
      ],
      "source": [
        "my_df = pd.read_csv('sales2019.csv')\n",
        "my_df\n"
      ]
    },
    {
      "cell_type": "code",
      "execution_count": 10,
      "metadata": {
        "id": "69RQg0zYRzH7"
      },
      "outputs": [],
      "source": [
        "my_df = my_df.dropna(how = 'all')\n",
        "my_df = my_df[my_df['Product'] != 'Product']\n",
        "my_df.drop_duplicates(inplace = True)"
      ]
    },
    {
      "cell_type": "code",
      "execution_count": 11,
      "metadata": {
        "id": "IEJAr89lRzH8",
        "colab": {
          "base_uri": "https://localhost:8080/",
          "height": 670
        },
        "outputId": "73645b6a-ed22-40ff-ec3d-45298034aa71"
      },
      "outputs": [
        {
          "output_type": "execute_result",
          "data": {
            "text/plain": [
              "        Unnamed: 0.1  Unnamed: 0  Order ID                   Product  \\\n",
              "0                  0           0    141234                    iPhone   \n",
              "1                  1           1    141235  Lightning Charging Cable   \n",
              "2                  2           2    141236          Wired Headphones   \n",
              "3                  3           3    141237          27in FHD Monitor   \n",
              "4                  4           4    141238          Wired Headphones   \n",
              "...              ...         ...       ...                       ...   \n",
              "105309        105309      115679    242380             Flatscreen TV   \n",
              "105310        105310      115680    242381      USB-C Charging Cable   \n",
              "105311        105311      115681    242382     AA Batteries (4-pack)   \n",
              "105312        105312      115682    242383                    iPhone   \n",
              "105313        105313      115683    242384              Google Phone   \n",
              "\n",
              "        Quantity Ordered  Price Each       Order Date  \\\n",
              "0                      1      700.00  1/22/2019 21:25   \n",
              "1                      1       14.95  1/28/2019 14:15   \n",
              "2                      2       11.99  1/17/2019 13:33   \n",
              "3                      1      149.99   1/5/2019 20:33   \n",
              "4                      1       11.99  1/25/2019 11:59   \n",
              "...                  ...         ...              ...   \n",
              "105309                 1      300.00   08/06/19 08:12   \n",
              "105310                 1       11.95   08/23/19 06:41   \n",
              "105311                 1        3.84   08/07/19 21:03   \n",
              "105312                 1      700.00   08/24/19 15:50   \n",
              "105313                 1      600.00         08/17/19   \n",
              "\n",
              "                               Purchase Address  \n",
              "0               944 Walnut St, Boston, MA 02215  \n",
              "1              185 Maple St, Portland, OR 97035  \n",
              "2         538 Adams St, San Francisco, CA 94016  \n",
              "3            738 10th St, Los Angeles, CA 90001  \n",
              "4                 387 10th St, Austin, TX 73301  \n",
              "...                                         ...  \n",
              "105309       572 Jefferson St, Dallas, TX 75001  \n",
              "105310  796 Dogwood St, New York City, NY 10001  \n",
              "105311          290 14th St, Portland, OR 97035  \n",
              "105312  773 Hickory St, New York City, NY 10001  \n",
              "105313                                      NaN  \n",
              "\n",
              "[105314 rows x 8 columns]"
            ],
            "text/html": [
              "\n",
              "  <div id=\"df-ccd605ad-ca00-4824-8ddf-d6c6fad0228f\">\n",
              "    <div class=\"colab-df-container\">\n",
              "      <div>\n",
              "<style scoped>\n",
              "    .dataframe tbody tr th:only-of-type {\n",
              "        vertical-align: middle;\n",
              "    }\n",
              "\n",
              "    .dataframe tbody tr th {\n",
              "        vertical-align: top;\n",
              "    }\n",
              "\n",
              "    .dataframe thead th {\n",
              "        text-align: right;\n",
              "    }\n",
              "</style>\n",
              "<table border=\"1\" class=\"dataframe\">\n",
              "  <thead>\n",
              "    <tr style=\"text-align: right;\">\n",
              "      <th></th>\n",
              "      <th>Unnamed: 0.1</th>\n",
              "      <th>Unnamed: 0</th>\n",
              "      <th>Order ID</th>\n",
              "      <th>Product</th>\n",
              "      <th>Quantity Ordered</th>\n",
              "      <th>Price Each</th>\n",
              "      <th>Order Date</th>\n",
              "      <th>Purchase Address</th>\n",
              "    </tr>\n",
              "  </thead>\n",
              "  <tbody>\n",
              "    <tr>\n",
              "      <th>0</th>\n",
              "      <td>0</td>\n",
              "      <td>0</td>\n",
              "      <td>141234</td>\n",
              "      <td>iPhone</td>\n",
              "      <td>1</td>\n",
              "      <td>700.00</td>\n",
              "      <td>1/22/2019 21:25</td>\n",
              "      <td>944 Walnut St, Boston, MA 02215</td>\n",
              "    </tr>\n",
              "    <tr>\n",
              "      <th>1</th>\n",
              "      <td>1</td>\n",
              "      <td>1</td>\n",
              "      <td>141235</td>\n",
              "      <td>Lightning Charging Cable</td>\n",
              "      <td>1</td>\n",
              "      <td>14.95</td>\n",
              "      <td>1/28/2019 14:15</td>\n",
              "      <td>185 Maple St, Portland, OR 97035</td>\n",
              "    </tr>\n",
              "    <tr>\n",
              "      <th>2</th>\n",
              "      <td>2</td>\n",
              "      <td>2</td>\n",
              "      <td>141236</td>\n",
              "      <td>Wired Headphones</td>\n",
              "      <td>2</td>\n",
              "      <td>11.99</td>\n",
              "      <td>1/17/2019 13:33</td>\n",
              "      <td>538 Adams St, San Francisco, CA 94016</td>\n",
              "    </tr>\n",
              "    <tr>\n",
              "      <th>3</th>\n",
              "      <td>3</td>\n",
              "      <td>3</td>\n",
              "      <td>141237</td>\n",
              "      <td>27in FHD Monitor</td>\n",
              "      <td>1</td>\n",
              "      <td>149.99</td>\n",
              "      <td>1/5/2019 20:33</td>\n",
              "      <td>738 10th St, Los Angeles, CA 90001</td>\n",
              "    </tr>\n",
              "    <tr>\n",
              "      <th>4</th>\n",
              "      <td>4</td>\n",
              "      <td>4</td>\n",
              "      <td>141238</td>\n",
              "      <td>Wired Headphones</td>\n",
              "      <td>1</td>\n",
              "      <td>11.99</td>\n",
              "      <td>1/25/2019 11:59</td>\n",
              "      <td>387 10th St, Austin, TX 73301</td>\n",
              "    </tr>\n",
              "    <tr>\n",
              "      <th>...</th>\n",
              "      <td>...</td>\n",
              "      <td>...</td>\n",
              "      <td>...</td>\n",
              "      <td>...</td>\n",
              "      <td>...</td>\n",
              "      <td>...</td>\n",
              "      <td>...</td>\n",
              "      <td>...</td>\n",
              "    </tr>\n",
              "    <tr>\n",
              "      <th>105309</th>\n",
              "      <td>105309</td>\n",
              "      <td>115679</td>\n",
              "      <td>242380</td>\n",
              "      <td>Flatscreen TV</td>\n",
              "      <td>1</td>\n",
              "      <td>300.00</td>\n",
              "      <td>08/06/19 08:12</td>\n",
              "      <td>572 Jefferson St, Dallas, TX 75001</td>\n",
              "    </tr>\n",
              "    <tr>\n",
              "      <th>105310</th>\n",
              "      <td>105310</td>\n",
              "      <td>115680</td>\n",
              "      <td>242381</td>\n",
              "      <td>USB-C Charging Cable</td>\n",
              "      <td>1</td>\n",
              "      <td>11.95</td>\n",
              "      <td>08/23/19 06:41</td>\n",
              "      <td>796 Dogwood St, New York City, NY 10001</td>\n",
              "    </tr>\n",
              "    <tr>\n",
              "      <th>105311</th>\n",
              "      <td>105311</td>\n",
              "      <td>115681</td>\n",
              "      <td>242382</td>\n",
              "      <td>AA Batteries (4-pack)</td>\n",
              "      <td>1</td>\n",
              "      <td>3.84</td>\n",
              "      <td>08/07/19 21:03</td>\n",
              "      <td>290 14th St, Portland, OR 97035</td>\n",
              "    </tr>\n",
              "    <tr>\n",
              "      <th>105312</th>\n",
              "      <td>105312</td>\n",
              "      <td>115682</td>\n",
              "      <td>242383</td>\n",
              "      <td>iPhone</td>\n",
              "      <td>1</td>\n",
              "      <td>700.00</td>\n",
              "      <td>08/24/19 15:50</td>\n",
              "      <td>773 Hickory St, New York City, NY 10001</td>\n",
              "    </tr>\n",
              "    <tr>\n",
              "      <th>105313</th>\n",
              "      <td>105313</td>\n",
              "      <td>115683</td>\n",
              "      <td>242384</td>\n",
              "      <td>Google Phone</td>\n",
              "      <td>1</td>\n",
              "      <td>600.00</td>\n",
              "      <td>08/17/19</td>\n",
              "      <td>NaN</td>\n",
              "    </tr>\n",
              "  </tbody>\n",
              "</table>\n",
              "<p>105314 rows × 8 columns</p>\n",
              "</div>\n",
              "      <button class=\"colab-df-convert\" onclick=\"convertToInteractive('df-ccd605ad-ca00-4824-8ddf-d6c6fad0228f')\"\n",
              "              title=\"Convert this dataframe to an interactive table.\"\n",
              "              style=\"display:none;\">\n",
              "        \n",
              "  <svg xmlns=\"http://www.w3.org/2000/svg\" height=\"24px\"viewBox=\"0 0 24 24\"\n",
              "       width=\"24px\">\n",
              "    <path d=\"M0 0h24v24H0V0z\" fill=\"none\"/>\n",
              "    <path d=\"M18.56 5.44l.94 2.06.94-2.06 2.06-.94-2.06-.94-.94-2.06-.94 2.06-2.06.94zm-11 1L8.5 8.5l.94-2.06 2.06-.94-2.06-.94L8.5 2.5l-.94 2.06-2.06.94zm10 10l.94 2.06.94-2.06 2.06-.94-2.06-.94-.94-2.06-.94 2.06-2.06.94z\"/><path d=\"M17.41 7.96l-1.37-1.37c-.4-.4-.92-.59-1.43-.59-.52 0-1.04.2-1.43.59L10.3 9.45l-7.72 7.72c-.78.78-.78 2.05 0 2.83L4 21.41c.39.39.9.59 1.41.59.51 0 1.02-.2 1.41-.59l7.78-7.78 2.81-2.81c.8-.78.8-2.07 0-2.86zM5.41 20L4 18.59l7.72-7.72 1.47 1.35L5.41 20z\"/>\n",
              "  </svg>\n",
              "      </button>\n",
              "      \n",
              "  <style>\n",
              "    .colab-df-container {\n",
              "      display:flex;\n",
              "      flex-wrap:wrap;\n",
              "      gap: 12px;\n",
              "    }\n",
              "\n",
              "    .colab-df-convert {\n",
              "      background-color: #E8F0FE;\n",
              "      border: none;\n",
              "      border-radius: 50%;\n",
              "      cursor: pointer;\n",
              "      display: none;\n",
              "      fill: #1967D2;\n",
              "      height: 32px;\n",
              "      padding: 0 0 0 0;\n",
              "      width: 32px;\n",
              "    }\n",
              "\n",
              "    .colab-df-convert:hover {\n",
              "      background-color: #E2EBFA;\n",
              "      box-shadow: 0px 1px 2px rgba(60, 64, 67, 0.3), 0px 1px 3px 1px rgba(60, 64, 67, 0.15);\n",
              "      fill: #174EA6;\n",
              "    }\n",
              "\n",
              "    [theme=dark] .colab-df-convert {\n",
              "      background-color: #3B4455;\n",
              "      fill: #D2E3FC;\n",
              "    }\n",
              "\n",
              "    [theme=dark] .colab-df-convert:hover {\n",
              "      background-color: #434B5C;\n",
              "      box-shadow: 0px 1px 3px 1px rgba(0, 0, 0, 0.15);\n",
              "      filter: drop-shadow(0px 1px 2px rgba(0, 0, 0, 0.3));\n",
              "      fill: #FFFFFF;\n",
              "    }\n",
              "  </style>\n",
              "\n",
              "      <script>\n",
              "        const buttonEl =\n",
              "          document.querySelector('#df-ccd605ad-ca00-4824-8ddf-d6c6fad0228f button.colab-df-convert');\n",
              "        buttonEl.style.display =\n",
              "          google.colab.kernel.accessAllowed ? 'block' : 'none';\n",
              "\n",
              "        async function convertToInteractive(key) {\n",
              "          const element = document.querySelector('#df-ccd605ad-ca00-4824-8ddf-d6c6fad0228f');\n",
              "          const dataTable =\n",
              "            await google.colab.kernel.invokeFunction('convertToInteractive',\n",
              "                                                     [key], {});\n",
              "          if (!dataTable) return;\n",
              "\n",
              "          const docLinkHtml = 'Like what you see? Visit the ' +\n",
              "            '<a target=\"_blank\" href=https://colab.research.google.com/notebooks/data_table.ipynb>data table notebook</a>'\n",
              "            + ' to learn more about interactive tables.';\n",
              "          element.innerHTML = '';\n",
              "          dataTable['output_type'] = 'display_data';\n",
              "          await google.colab.output.renderOutput(dataTable, element);\n",
              "          const docLink = document.createElement('div');\n",
              "          docLink.innerHTML = docLinkHtml;\n",
              "          element.appendChild(docLink);\n",
              "        }\n",
              "      </script>\n",
              "    </div>\n",
              "  </div>\n",
              "  "
            ]
          },
          "metadata": {},
          "execution_count": 11
        },
        {
          "output_type": "stream",
          "name": "stdout",
          "text": [
            "Warning: total number of rows (105314) exceeds max_rows (20000). Limiting to first (20000) rows.\n"
          ]
        }
      ],
      "source": [
        "set(my_df['Product'])\n",
        "my_df\n"
      ]
    },
    {
      "cell_type": "markdown",
      "source": [
        "**Convert the 2 column types \"Quantity Ordered\" and \"Price Each\"**"
      ],
      "metadata": {
        "id": "Yh0E_zpk9rsC"
      }
    },
    {
      "cell_type": "code",
      "execution_count": 12,
      "metadata": {
        "id": "Coo2YsM-RzH9"
      },
      "outputs": [],
      "source": [
        "my_df['Quantity Ordered'] = pd.to_numeric(my_df['Quantity Ordered'],downcast= 'integer')\n",
        "my_df['Price Each'] = pd.to_numeric(my_df['Price Each'], downcast='float')"
      ]
    },
    {
      "cell_type": "markdown",
      "source": [
        "**Calculate the value of each order**"
      ],
      "metadata": {
        "id": "QsaFZRty9__b"
      }
    },
    {
      "cell_type": "code",
      "execution_count": 13,
      "metadata": {
        "id": "qldygbW_RzH-"
      },
      "outputs": [],
      "source": [
        "my_df['Sale'] = my_df['Price Each'] * my_df['Quantity Ordered']\n",
        "my_sale = my_df.pop('Sale')\n",
        "my_df.insert(4,'Sales',my_sale)\n"
      ]
    },
    {
      "cell_type": "code",
      "execution_count": 14,
      "metadata": {
        "id": "hY4lQsN7RzH-",
        "colab": {
          "base_uri": "https://localhost:8080/"
        },
        "outputId": "cfd76a3b-47d2-4dc3-b28a-3fcf11cdade1"
      },
      "outputs": [
        {
          "output_type": "stream",
          "name": "stderr",
          "text": [
            "<ipython-input-14-4c3142002142>:1: FutureWarning: The default value of numeric_only in DataFrameGroupBy.sum is deprecated. In a future version, numeric_only will default to False. Either specify numeric_only or select only columns which should be valid for the function.\n",
            "  my_prd = my_df.groupby('Product').sum()['Sales'].sort_values(ascending= False)\n"
          ]
        }
      ],
      "source": [
        "my_prd = my_df.groupby('Product').sum()['Sales'].sort_values(ascending= False)"
      ]
    },
    {
      "cell_type": "markdown",
      "metadata": {
        "id": "fyA_hFDcRzH-"
      },
      "source": [
        "#WHICH PRODUCT IS BEST SELLER?\n"
      ]
    },
    {
      "cell_type": "code",
      "execution_count": 15,
      "metadata": {
        "id": "Ehg_11Q_RzH_",
        "colab": {
          "base_uri": "https://localhost:8080/"
        },
        "outputId": "bb67a46c-6f49-406f-9752-c3367e573405"
      },
      "outputs": [
        {
          "output_type": "stream",
          "name": "stdout",
          "text": [
            "['Macbook Pro Laptop', 'iPhone', 'ThinkPad Laptop', 'Google Phone', '27in 4K Gaming Monitor', '34in Ultrawide Monitor', 'Apple Airpods Headphones', 'Flatscreen TV', 'Bose SoundSport Headphones', '27in FHD Monitor', 'Vareebadd Phone', '20in Monitor', 'LG Washing Machine', 'LG Dryer', 'Lightning Charging Cable', 'USB-C Charging Cable', 'Wired Headphones', 'AA Batteries (4-pack)', 'AAA Batteries (4-pack)']\n",
            "[4530500.0, 2755900.0, 2357976.5, 1927800.0, 1361065.125, 1351624.375, 1334550.0, 815700.0, 760523.9375, 650356.6875, 480000.0, 251987.078125, 241800.0, 238200.0, 196398.140625, 160894.796875, 139827.375, 60142.078125, 52190.44921875]\n"
          ]
        },
        {
          "output_type": "execute_result",
          "data": {
            "text/plain": [
              "<function print>"
            ]
          },
          "metadata": {},
          "execution_count": 15
        }
      ],
      "source": [
        "prd = []\n",
        "sl = []\n",
        "for x,y in my_prd.items():\n",
        "    prd.append(x)\n",
        "    sl.append(y)\n",
        "print(prd)\n",
        "print(sl)\n",
        "print"
      ]
    },
    {
      "cell_type": "markdown",
      "source": [
        "**Revenue chart by product**"
      ],
      "metadata": {
        "id": "bT7bGoDF-O3M"
      }
    },
    {
      "cell_type": "code",
      "execution_count": 16,
      "metadata": {
        "id": "S4lieyORRzIA",
        "colab": {
          "base_uri": "https://localhost:8080/"
        },
        "outputId": "fc7b58ce-7d5b-42b0-db1a-98096387303a"
      },
      "outputs": [
        {
          "output_type": "execute_result",
          "data": {
            "text/plain": [
              "Product\n",
              "Macbook Pro Laptop            4.530500e+06\n",
              "iPhone                        2.755900e+06\n",
              "ThinkPad Laptop               2.357976e+06\n",
              "Google Phone                  1.927800e+06\n",
              "27in 4K Gaming Monitor        1.361065e+06\n",
              "34in Ultrawide Monitor        1.351624e+06\n",
              "Apple Airpods Headphones      1.334550e+06\n",
              "Flatscreen TV                 8.157000e+05\n",
              "Bose SoundSport Headphones    7.605239e+05\n",
              "27in FHD Monitor              6.503567e+05\n",
              "Vareebadd Phone               4.800000e+05\n",
              "20in Monitor                  2.519871e+05\n",
              "LG Washing Machine            2.418000e+05\n",
              "LG Dryer                      2.382000e+05\n",
              "Lightning Charging Cable      1.963981e+05\n",
              "USB-C Charging Cable          1.608948e+05\n",
              "Wired Headphones              1.398274e+05\n",
              "AA Batteries (4-pack)         6.014208e+04\n",
              "AAA Batteries (4-pack)        5.219045e+04\n",
              "Name: Sales, dtype: float32"
            ]
          },
          "metadata": {},
          "execution_count": 16
        }
      ],
      "source": [
        "my_prd"
      ]
    },
    {
      "cell_type": "code",
      "source": [
        "plt.bar(x=prd, height=sl, color='blue')\n",
        "plt.xticks(rotation=90)\n",
        "plt.xlabel('Product', size=14)\n",
        "plt.grid(axis='y', linestyle='--')\n",
        "plt.gcf().set_size_inches(12, 6)\n",
        "plt.ticklabel_format(style='plain', axis='y')\n",
        "plt.title('Sales by Product', size=18)\n",
        "    \n",
        "plt.show()"
      ],
      "metadata": {
        "id": "KpmmpzNdj7Ih",
        "colab": {
          "base_uri": "https://localhost:8080/",
          "height": 770
        },
        "outputId": "f82cdcf1-fd62-4ad6-cdda-e76ec0159caf"
      },
      "execution_count": 17,
      "outputs": [
        {
          "output_type": "display_data",
          "data": {
            "text/plain": [
              "<Figure size 1200x600 with 1 Axes>"
            ],
            "image/png": "[encoded data removed]"
          },
          "metadata": {}
        }
      ]
    },
    {
      "cell_type": "markdown",
      "metadata": {
        "id": "j7FatjWWRzIA"
      },
      "source": [
        "#NUMBER OF SALE PER PRODUCT"
      ]
    },
    {
      "cell_type": "markdown",
      "source": [
        "**Sales quantity of each product?**\n"
      ],
      "metadata": {
        "id": "Ub15Ayt_-Yns"
      }
    },
    {
      "cell_type": "code",
      "execution_count": 18,
      "metadata": {
        "id": "Cjsz6WP_RzIA",
        "colab": {
          "base_uri": "https://localhost:8080/"
        },
        "outputId": "d416122a-c53c-4ff8-b43a-99490bf410f3"
      },
      "outputs": [
        {
          "output_type": "stream",
          "name": "stderr",
          "text": [
            "<ipython-input-18-e9e51306f051>:1: FutureWarning: The default value of numeric_only in DataFrameGroupBy.sum is deprecated. In a future version, numeric_only will default to False. Either specify numeric_only or select only columns which should be valid for the function.\n",
            "  my_qtt = my_df.groupby('Product').sum()['Quantity Ordered'].sort_values(ascending= False,)\n"
          ]
        },
        {
          "output_type": "execute_result",
          "data": {
            "text/plain": [
              "Product\n",
              "AAA Batteries (4-pack)        17455\n",
              "AA Batteries (4-pack)         15662\n",
              "USB-C Charging Cable          13464\n",
              "Lightning Charging Cable      13137\n",
              "Wired Headphones              11662\n",
              "Apple Airpods Headphones       8897\n",
              "Bose SoundSport Headphones     7606\n",
              "27in FHD Monitor               4336\n",
              "iPhone                         3937\n",
              "34in Ultrawide Monitor         3557\n",
              "27in 4K Gaming Monitor         3490\n",
              "Google Phone                   3213\n",
              "Flatscreen TV                  2719\n",
              "Macbook Pro Laptop             2665\n",
              "ThinkPad Laptop                2358\n",
              "20in Monitor                   2291\n",
              "Vareebadd Phone                1200\n",
              "LG Washing Machine              403\n",
              "LG Dryer                        397\n",
              "Name: Quantity Ordered, dtype: int64"
            ]
          },
          "metadata": {},
          "execution_count": 18
        }
      ],
      "source": [
        "my_qtt = my_df.groupby('Product').sum()['Quantity Ordered'].sort_values(ascending= False,)\n",
        "my_qtt\n",
        "    "
      ]
    },
    {
      "cell_type": "code",
      "source": [
        "prd = []\n",
        "qtt = []\n",
        "for x,y in my_qtt.items():\n",
        "    prd.append(x)\n",
        "    qtt.append(y)\n",
        "plt.bar(x=prd, height=qtt, color='blue')\n",
        "plt.xticks(rotation=90)\n",
        "plt.xlabel('Product', size=14)\n",
        "plt.ylabel('Total Quantity Ordered', size=14)\n",
        "plt.grid(axis='y', linestyle='--')\n",
        "plt.gcf().set_size_inches(12, 6)\n",
        "plt.title('SALES BY PRODUCT QUANTITY', size=18)\n",
        "plt.show()"
      ],
      "metadata": {
        "id": "PE2_dNTvkyT5",
        "colab": {
          "base_uri": "https://localhost:8080/",
          "height": 770
        },
        "outputId": "ad4e38ca-4a41-4352-8c16-5476b0df8f11"
      },
      "execution_count": 19,
      "outputs": [
        {
          "output_type": "display_data",
          "data": {
            "text/plain": [
              "<Figure size 1200x600 with 1 Axes>"
            ],
            "image/png": "[encoded data removed]"
          },
          "metadata": {}
        }
      ]
    },
    {
      "cell_type": "markdown",
      "metadata": {
        "id": "hWtHm1csRzIB"
      },
      "source": [
        "#REVENUE OF EACH CITY"
      ]
    },
    {
      "cell_type": "markdown",
      "source": [
        "**Add the \"city\" column to the chart**"
      ],
      "metadata": {
        "id": "hcktFIDy-eQu"
      }
    },
    {
      "cell_type": "code",
      "execution_count": 20,
      "metadata": {
        "id": "JHzQVfU7RzIB",
        "colab": {
          "base_uri": "https://localhost:8080/",
          "height": 341
        },
        "outputId": "43b13bdd-fb1d-419c-d9c6-9ee2e54b5a53"
      },
      "outputs": [
        {
          "output_type": "error",
          "ename": "IndexError",
          "evalue": "ignored",
          "traceback": [
            "\u001b[0;31m---------------------------------------------------------------------------\u001b[0m",
            "\u001b[0;31mIndexError\u001b[0m                                Traceback (most recent call last)",
            "\u001b[0;32m<ipython-input-20-28f44c4dcfd6>\u001b[0m in \u001b[0;36m<cell line: 5>\u001b[0;34m()\u001b[0m\n\u001b[1;32m      3\u001b[0m     \u001b[0mcity\u001b[0m \u001b[0;34m=\u001b[0m \u001b[0mx\u001b[0m\u001b[0;34m.\u001b[0m\u001b[0msplit\u001b[0m\u001b[0;34m(\u001b[0m\u001b[0;34m','\u001b[0m\u001b[0;34m)\u001b[0m\u001b[0;34m\u001b[0m\u001b[0;34m\u001b[0m\u001b[0m\n\u001b[1;32m      4\u001b[0m     \u001b[0;32mreturn\u001b[0m \u001b[0mcity\u001b[0m\u001b[0;34m[\u001b[0m\u001b[0;36m1\u001b[0m\u001b[0;34m]\u001b[0m\u001b[0;34m\u001b[0m\u001b[0;34m\u001b[0m\u001b[0m\n\u001b[0;32m----> 5\u001b[0;31m \u001b[0mmy_df\u001b[0m\u001b[0;34m[\u001b[0m\u001b[0;34m'City'\u001b[0m\u001b[0;34m]\u001b[0m \u001b[0;34m=\u001b[0m \u001b[0mmy_df\u001b[0m\u001b[0;34m[\u001b[0m\u001b[0;34m'Purchase Address'\u001b[0m\u001b[0;34m]\u001b[0m\u001b[0;34m.\u001b[0m\u001b[0mapply\u001b[0m\u001b[0;34m(\u001b[0m\u001b[0;32mlambda\u001b[0m \u001b[0mx\u001b[0m\u001b[0;34m:\u001b[0m\u001b[0msplit_city\u001b[0m\u001b[0;34m(\u001b[0m\u001b[0mx\u001b[0m\u001b[0;34m)\u001b[0m\u001b[0;34m)\u001b[0m\u001b[0;34m\u001b[0m\u001b[0;34m\u001b[0m\u001b[0m\n\u001b[0m",
            "\u001b[0;32m/usr/local/lib/python3.10/dist-packages/pandas/core/series.py\u001b[0m in \u001b[0;36mapply\u001b[0;34m(self, func, convert_dtype, args, **kwargs)\u001b[0m\n\u001b[1;32m   4769\u001b[0m         \u001b[0mdtype\u001b[0m\u001b[0;34m:\u001b[0m \u001b[0mfloat64\u001b[0m\u001b[0;34m\u001b[0m\u001b[0;34m\u001b[0m\u001b[0m\n\u001b[1;32m   4770\u001b[0m         \"\"\"\n\u001b[0;32m-> 4771\u001b[0;31m         \u001b[0;32mreturn\u001b[0m \u001b[0mSeriesApply\u001b[0m\u001b[0;34m(\u001b[0m\u001b[0mself\u001b[0m\u001b[0;34m,\u001b[0m \u001b[0mfunc\u001b[0m\u001b[0;34m,\u001b[0m \u001b[0mconvert_dtype\u001b[0m\u001b[0;34m,\u001b[0m \u001b[0margs\u001b[0m\u001b[0;34m,\u001b[0m \u001b[0mkwargs\u001b[0m\u001b[0;34m)\u001b[0m\u001b[0;34m.\u001b[0m\u001b[0mapply\u001b[0m\u001b[0;34m(\u001b[0m\u001b[0;34m)\u001b[0m\u001b[0;34m\u001b[0m\u001b[0;34m\u001b[0m\u001b[0m\n\u001b[0m\u001b[1;32m   4772\u001b[0m \u001b[0;34m\u001b[0m\u001b[0m\n\u001b[1;32m   4773\u001b[0m     def _reduce(\n",
            "\u001b[0;32m/usr/local/lib/python3.10/dist-packages/pandas/core/apply.py\u001b[0m in \u001b[0;36mapply\u001b[0;34m(self)\u001b[0m\n\u001b[1;32m   1121\u001b[0m \u001b[0;34m\u001b[0m\u001b[0m\n\u001b[1;32m   1122\u001b[0m         \u001b[0;31m# self.f is Callable\u001b[0m\u001b[0;34m\u001b[0m\u001b[0;34m\u001b[0m\u001b[0m\n\u001b[0;32m-> 1123\u001b[0;31m         \u001b[0;32mreturn\u001b[0m \u001b[0mself\u001b[0m\u001b[0;34m.\u001b[0m\u001b[0mapply_standard\u001b[0m\u001b[0;34m(\u001b[0m\u001b[0;34m)\u001b[0m\u001b[0;34m\u001b[0m\u001b[0;34m\u001b[0m\u001b[0m\n\u001b[0m\u001b[1;32m   1124\u001b[0m \u001b[0;34m\u001b[0m\u001b[0m\n\u001b[1;32m   1125\u001b[0m     \u001b[0;32mdef\u001b[0m \u001b[0magg\u001b[0m\u001b[0;34m(\u001b[0m\u001b[0mself\u001b[0m\u001b[0;34m)\u001b[0m\u001b[0;34m:\u001b[0m\u001b[0;34m\u001b[0m\u001b[0;34m\u001b[0m\u001b[0m\n",
            "\u001b[0;32m/usr/local/lib/python3.10/dist-packages/pandas/core/apply.py\u001b[0m in \u001b[0;36mapply_standard\u001b[0;34m(self)\u001b[0m\n\u001b[1;32m   1172\u001b[0m             \u001b[0;32melse\u001b[0m\u001b[0;34m:\u001b[0m\u001b[0;34m\u001b[0m\u001b[0;34m\u001b[0m\u001b[0m\n\u001b[1;32m   1173\u001b[0m                 \u001b[0mvalues\u001b[0m \u001b[0;34m=\u001b[0m \u001b[0mobj\u001b[0m\u001b[0;34m.\u001b[0m\u001b[0mastype\u001b[0m\u001b[0;34m(\u001b[0m\u001b[0mobject\u001b[0m\u001b[0;34m)\u001b[0m\u001b[0;34m.\u001b[0m\u001b[0m_values\u001b[0m\u001b[0;34m\u001b[0m\u001b[0;34m\u001b[0m\u001b[0m\n\u001b[0;32m-> 1174\u001b[0;31m                 mapped = lib.map_infer(\n\u001b[0m\u001b[1;32m   1175\u001b[0m                     \u001b[0mvalues\u001b[0m\u001b[0;34m,\u001b[0m\u001b[0;34m\u001b[0m\u001b[0;34m\u001b[0m\u001b[0m\n\u001b[1;32m   1176\u001b[0m                     \u001b[0mf\u001b[0m\u001b[0;34m,\u001b[0m\u001b[0;34m\u001b[0m\u001b[0;34m\u001b[0m\u001b[0m\n",
            "\u001b[0;32m/usr/local/lib/python3.10/dist-packages/pandas/_libs/lib.pyx\u001b[0m in \u001b[0;36mpandas._libs.lib.map_infer\u001b[0;34m()\u001b[0m\n",
            "\u001b[0;32m<ipython-input-20-28f44c4dcfd6>\u001b[0m in \u001b[0;36m<lambda>\u001b[0;34m(x)\u001b[0m\n\u001b[1;32m      3\u001b[0m     \u001b[0mcity\u001b[0m \u001b[0;34m=\u001b[0m \u001b[0mx\u001b[0m\u001b[0;34m.\u001b[0m\u001b[0msplit\u001b[0m\u001b[0;34m(\u001b[0m\u001b[0;34m','\u001b[0m\u001b[0;34m)\u001b[0m\u001b[0;34m\u001b[0m\u001b[0;34m\u001b[0m\u001b[0m\n\u001b[1;32m      4\u001b[0m     \u001b[0;32mreturn\u001b[0m \u001b[0mcity\u001b[0m\u001b[0;34m[\u001b[0m\u001b[0;36m1\u001b[0m\u001b[0;34m]\u001b[0m\u001b[0;34m\u001b[0m\u001b[0;34m\u001b[0m\u001b[0m\n\u001b[0;32m----> 5\u001b[0;31m \u001b[0mmy_df\u001b[0m\u001b[0;34m[\u001b[0m\u001b[0;34m'City'\u001b[0m\u001b[0;34m]\u001b[0m \u001b[0;34m=\u001b[0m \u001b[0mmy_df\u001b[0m\u001b[0;34m[\u001b[0m\u001b[0;34m'Purchase Address'\u001b[0m\u001b[0;34m]\u001b[0m\u001b[0;34m.\u001b[0m\u001b[0mapply\u001b[0m\u001b[0;34m(\u001b[0m\u001b[0;32mlambda\u001b[0m \u001b[0mx\u001b[0m\u001b[0;34m:\u001b[0m\u001b[0msplit_city\u001b[0m\u001b[0;34m(\u001b[0m\u001b[0mx\u001b[0m\u001b[0;34m)\u001b[0m\u001b[0;34m)\u001b[0m\u001b[0;34m\u001b[0m\u001b[0;34m\u001b[0m\u001b[0m\n\u001b[0m",
            "\u001b[0;32m<ipython-input-20-28f44c4dcfd6>\u001b[0m in \u001b[0;36msplit_city\u001b[0;34m(x)\u001b[0m\n\u001b[1;32m      2\u001b[0m     \u001b[0mx\u001b[0m\u001b[0;34m=\u001b[0m \u001b[0mstr\u001b[0m\u001b[0;34m(\u001b[0m\u001b[0mx\u001b[0m\u001b[0;34m)\u001b[0m\u001b[0;34m\u001b[0m\u001b[0;34m\u001b[0m\u001b[0m\n\u001b[1;32m      3\u001b[0m     \u001b[0mcity\u001b[0m \u001b[0;34m=\u001b[0m \u001b[0mx\u001b[0m\u001b[0;34m.\u001b[0m\u001b[0msplit\u001b[0m\u001b[0;34m(\u001b[0m\u001b[0;34m','\u001b[0m\u001b[0;34m)\u001b[0m\u001b[0;34m\u001b[0m\u001b[0;34m\u001b[0m\u001b[0m\n\u001b[0;32m----> 4\u001b[0;31m     \u001b[0;32mreturn\u001b[0m \u001b[0mcity\u001b[0m\u001b[0;34m[\u001b[0m\u001b[0;36m1\u001b[0m\u001b[0;34m]\u001b[0m\u001b[0;34m\u001b[0m\u001b[0;34m\u001b[0m\u001b[0m\n\u001b[0m\u001b[1;32m      5\u001b[0m \u001b[0mmy_df\u001b[0m\u001b[0;34m[\u001b[0m\u001b[0;34m'City'\u001b[0m\u001b[0;34m]\u001b[0m \u001b[0;34m=\u001b[0m \u001b[0mmy_df\u001b[0m\u001b[0;34m[\u001b[0m\u001b[0;34m'Purchase Address'\u001b[0m\u001b[0;34m]\u001b[0m\u001b[0;34m.\u001b[0m\u001b[0mapply\u001b[0m\u001b[0;34m(\u001b[0m\u001b[0;32mlambda\u001b[0m \u001b[0mx\u001b[0m\u001b[0;34m:\u001b[0m\u001b[0msplit_city\u001b[0m\u001b[0;34m(\u001b[0m\u001b[0mx\u001b[0m\u001b[0;34m)\u001b[0m\u001b[0;34m)\u001b[0m\u001b[0;34m\u001b[0m\u001b[0;34m\u001b[0m\u001b[0m\n",
            "\u001b[0;31mIndexError\u001b[0m: list index out of range"
          ]
        }
      ],
      "source": [
        "def split_city(x):\n",
        "    x= str(x)\n",
        "    city = x.split(',')\n",
        "    return city[1]\n",
        "my_df['City'] = my_df['Purchase Address'].apply(lambda x:split_city(x))\n"
      ]
    },
    {
      "cell_type": "code",
      "execution_count": null,
      "metadata": {
        "id": "Ev9HqW-SRzIC"
      },
      "outputs": [],
      "source": [
        "rvn_city = my_df.groupby('City').sum()['Sales'].sort_values()\n",
        "city = []\n",
        "revenue_ct = []\n",
        "for x,y in rvn_city.items():\n",
        "    city.append(x)\n",
        "    revenue_ct.append(y)\n",
        "print(city)\n",
        "print(revenue_ct)\n"
      ]
    },
    {
      "cell_type": "markdown",
      "source": [
        "**Print out revenue of each city**\n"
      ],
      "metadata": {
        "id": "S_N_0vzj-qBq"
      }
    },
    {
      "cell_type": "code",
      "source": [
        "rvn_city"
      ],
      "metadata": {
        "id": "9fcu5lUIqnFN"
      },
      "execution_count": null,
      "outputs": []
    },
    {
      "cell_type": "code",
      "execution_count": null,
      "metadata": {
        "id": "Mm1V0bvPRzID"
      },
      "outputs": [],
      "source": [
        "plt.bar(x = city, height = rvn_city, )\n",
        "plt.xticks(rotation= 90)\n",
        "fit = plt.gcf().set_size_inches(12,6)\n",
        "for i in range(len(city)):\n",
        "    plt.annotate((rvn_city[i]), xy=(city[i], (rvn_city[i])), ha='center', va='bottom')\n",
        "plt.title('REVENUE BY CITY',size = 20)\n",
        "plt.ylabel('Revenue (USA)',size= 15)\n",
        "plt.xlabel('City',size= 15)\n",
        "plt.ticklabel_format(style='plain', axis='y')\n",
        "plt.grid(axis = 'y',linestyle = '-.')\n",
        "plt.show()"
      ]
    },
    {
      "cell_type": "code",
      "source": [
        "fig, ax = plt.subplots(figsize=(8, 8))\n",
        "explode = (0, 0.1, 0, 0, 0, 0, 0, 0.1, 0.1)\n",
        "colors = ['#FFC300', '#FF5733', '#C70039', '#900C3F', '#581845', '#2E86C1', '#5DADE2', '#F4D03F', '#58D68D']\n",
        "ax.pie(revenue_ct, labels=city, autopct='%1.1f%%', explode=explode, colors=colors, startangle=90, textprops={'fontsize': 12})\n",
        "ax.axis('equal')\n",
        "ax.set_title('Revenue by City', fontsize=14, fontweight='bold')\n",
        "plt.savefig('revenue_by_city.png')"
      ],
      "metadata": {
        "id": "SkGnoEbBq1OS"
      },
      "execution_count": null,
      "outputs": []
    },
    {
      "cell_type": "markdown",
      "metadata": {
        "id": "jb2bedvbRzID"
      },
      "source": [
        "#HOURLY REVENUE"
      ]
    },
    {
      "cell_type": "code",
      "execution_count": null,
      "metadata": {
        "id": "wW74lLfLRzIE"
      },
      "outputs": [],
      "source": [
        "def split_hour(x):\n",
        "   x = str(x)\n",
        "   row_time = x.split('/')[-1]\n",
        "   row_time = row_time.split(' ')[-1]\n",
        "   h = row_time.split(':')[0]\n",
        "   if len(h)==1:\n",
        "      return  '0' + h  \n",
        "   return h\n",
        "my_df['Hour'] = my_df['Order Date'].apply(lambda x: split_hour(x))"
      ]
    },
    {
      "cell_type": "code",
      "execution_count": null,
      "metadata": {
        "id": "dRvJhikYRzIE"
      },
      "outputs": [],
      "source": [
        "revenue_hour = my_df.groupby('Hour').sum()['Sales'].sort_index()\n",
        "rv_hour = []\n",
        "hour = []\n",
        "for x,y in revenue_hour.items():\n",
        "    hour.append(x)\n",
        "    rv_hour.append(round(y,1))"
      ]
    },
    {
      "cell_type": "code",
      "execution_count": null,
      "metadata": {
        "id": "qdNGIlnWRzIF"
      },
      "outputs": [],
      "source": [
        "revenue_hour"
      ]
    },
    {
      "cell_type": "code",
      "execution_count": null,
      "metadata": {
        "id": "DgxkeKroRzIF"
      },
      "outputs": [],
      "source": [
        "plt.plot(hour,rv_hour, 'go-',color = 'red')\n",
        "plt.gcf().set_size_inches(12, 8)\n",
        "plt.grid(linestyle = '-.')\n",
        "plt.title('HOURLY REVENUE')\n",
        "plt.ticklabel_format(style='plain', axis='y')\n",
        "plt.xlabel('Hour',size = 14)\n",
        "plt.ylabel('Revenue',rotation=90,size = 14)\n",
        "plt.show()"
      ]
    },
    {
      "cell_type": "markdown",
      "metadata": {
        "id": "a34xK1b7RzIG"
      },
      "source": [
        "#MONTHLY REVENUE"
      ]
    },
    {
      "cell_type": "code",
      "execution_count": null,
      "metadata": {
        "id": "u2SMTTsXRzIG"
      },
      "outputs": [],
      "source": [
        "def split_hour(x):\n",
        "   x=str(x)\n",
        "   row_month = x.split('/')[0]\n",
        "   if len(row_month)==1:\n",
        "      return '0'+ row_month\n",
        "   return row_month\n",
        "my_df['Month'] = my_df['Order Date'].apply(lambda x: split_hour(x))\n",
        "revenue_month = my_df.groupby('Month').sum()['Sales']"
      ]
    },
    {
      "cell_type": "code",
      "execution_count": null,
      "metadata": {
        "id": "TlHlT2PyRzIH"
      },
      "outputs": [],
      "source": [
        "month = []\n",
        "rv_month = []\n",
        "for x,y in revenue_month.items():\n",
        "    month.append(x)\n",
        "    rv_month.append(y)\n",
        "revenue_month"
      ]
    },
    {
      "cell_type": "code",
      "execution_count": null,
      "metadata": {
        "id": "JJi-kDUIRzIH"
      },
      "outputs": [],
      "source": [
        "plt.bar(height=rv_month, x = month)\n",
        "plt.grid()\n",
        "plt.title(\"MONTHLY REVENUE\",size = 20)\n",
        "plt.xlabel(\"Month\",size = 14)\n",
        "plt.ylabel(\"Revenue (USD)\",size = 14)\n",
        "plt.xticks(month)\n",
        "for i in range(len(rv_month)):\n",
        "    plt.annotate(str(rv_month[i]),xy=(month[i],rv_month[i]),ha='center', va='bottom')\n",
        "plt.ticklabel_format(style='plain', axis='y')\n",
        "plt.gcf().set_size_inches(12, 6)\n",
        "plt.show()"
      ]
    },
    {
      "cell_type": "code",
      "source": [
        "my_df.head(30)"
      ],
      "metadata": {
        "id": "N2Y09kBHmacq"
      },
      "execution_count": null,
      "outputs": []
    }
  ],
  "metadata": {
    "kernelspec": {
      "display_name": "Python 3",
      "language": "python",
      "name": "python3"
    },
    "language_info": {
      "codemirror_mode": {
        "name": "ipython",
        "version": 3
      },
      "file_extension": ".py",
      "mimetype": "text/x-python",
      "name": "python",
      "nbconvert_exporter": "python",
      "pygments_lexer": "ipython3",
      "version": "3.9.13"
    },
    "orig_nbformat": 4,
    "colab": {
      "provenance": []
    }
  },
  "nbformat": 4,
  "nbformat_minor": 0
}